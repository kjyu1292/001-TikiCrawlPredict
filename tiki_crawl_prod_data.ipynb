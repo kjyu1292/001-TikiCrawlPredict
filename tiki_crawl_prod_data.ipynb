{
 "cells": [
  {
   "cell_type": "code",
   "execution_count": 1,
   "id": "61b89335",
   "metadata": {},
   "outputs": [],
   "source": [
    "import pandas as pd\n",
    "import numpy as np\n",
    "import requests\n",
    "import time\n",
    "import random\n",
    "from tqdm import tqdm"
   ]
  },
  {
   "cell_type": "code",
   "execution_count": 2,
   "id": "971221ca",
   "metadata": {},
   "outputs": [],
   "source": [
    "cookies = r\"_trackity=81022119-84ee-ed58-8c25-c4772e6b56f1; TOKENS={%22access_token%22:%22Jl5DrIsjp6kNc0RH1mMU4ZWhVSLbKfAy%22%2C%22expires_in%22:157680000%2C%22expires_at%22:1844943944403%2C%22guest_token%22:%22Jl5DrIsjp6kNc0RH1mMU4ZWhVSLbKfAy%22}; delivery_zone=Vk4wMzkwMDYwMDE=; _gid=GA1.2.634860621.1687263945; _gat=1; tiki_client_id=228222380.1687263945; _ga_GSD4ETCY1D=GS1.1.1687263948.1.0.1687263948.60.0.0; _ga=GA1.1.228222380.1687263945; _gcl_au=1.1.1639610846.1687263949; _fbp=fb.1.1687263948757.1893530334; _hjSessionUser_522327=eyJpZCI6IjcyYjczZjc2LWQ2N2YtNTM0NS05Yzg0LTJhMGI0MzM4OTU2NCIsImNyZWF0ZWQiOjE2ODcyNjM5NDg4MDEsImV4aXN0aW5nIjpmYWxzZX0=; _hjFirstSeen=1; _hjIncludedInSessionSample_522327=0; _hjSession_522327=eyJpZCI6IjFmZGJjYmU3LWYzNTctNDdlMi1hMmQxLWQ4MDA0MDU4ZjdkYSIsImNyZWF0ZWQiOjE2ODcyNjM5NDg4MDgsImluU2FtcGxlIjpmYWxzZX0=; _hjAbsoluteSessionInProgress=0; __uidac=05f3f93b0acfed74e61dab2be9997c21; amp_99d374=gX0IRGhoQ2geT8lKES4S-G...1h3cc97ta.1h3cc9cmt.2.5.7\""
   ]
  },
  {
   "cell_type": "code",
   "execution_count": 3,
   "id": "b906e427",
   "metadata": {},
   "outputs": [],
   "source": [
    "keys = []\n",
    "values = []\n",
    "for item in cookies.split('; '):\n",
    "    item = item.split('=')\n",
    "    keys.append(item[0])\n",
    "    values.append(item[1])\n",
    "cookies_dict = {key: value for key, value in zip(keys, values)}\n",
    "\n",
    "headers_dict = {\n",
    "    'User-Agent': 'Mozilla/5.0 (Windows NT 10.0; Win64; x64) AppleWebKit/537.36 (KHTML, like Gecko) Chrome/114.0.0.0 Safari/537.36',\n",
    "    'Accept': 'application/json, text/plain, */*',\n",
    "    'Accept-Language': 'en-US,en;q=0.9',\n",
    "    'Referer': r'https://tiki.vn/ta-dan-huggies-skincare-super-jumbo-m76-6-p261996366.html?itm_campaign=CTP_YPD_TKA_PLA_UNK_ALL_UNK_UNK_UNK_UNK_X.252372_Y.1834692_Z.3771327_CN.LED_Category_Ta-Dan_Tram-Tra-%2F-LED_Category_Search-Ads&itm_medium=CPC&itm_source=tiki-ads&spid=261996367',\n",
    "    'X-Guest-Token': 'Jl5DrIsjp6kNc0RH1mMU4ZWhVSLbKfAy',\n",
    "    'Connection': 'keep-alive'\n",
    "}\n",
    "\n",
    "params_dict = {\n",
    "    'platform': 'web',\n",
    "    'spid': '261996367'\n",
    "}"
   ]
  },
  {
   "cell_type": "code",
   "execution_count": 4,
   "id": "035963d5",
   "metadata": {},
   "outputs": [],
   "source": [
    "def parser(json):\n",
    "    d = dict()\n",
    "    try:\n",
    "        d['id'] = json.get('id')\n",
    "        d['quantity_sold'] = json.get('all_time_quantity_sold')\n",
    "        d['has_freeship_plus_benefit'] = json.get('asa_cashback_widget').get('amplitude').get('has_freeship_plus_benefit')\n",
    "        d['partner_rewards_amount'] = json.get('asa_cashback_widget').get('amplitude').get('partner_rewards_amount')\n",
    "        d['tiki_rewards_amount'] = json.get('asa_cashback_widget').get('amplitude').get('tiki_rewards_amount')\n",
    "        d['total_rewards_amount'] = json.get('asa_cashback_widget').get('amplitude').get('total_rewards_amount')\n",
    "        d['store_id'] = json.get('current_seller').get('store_id')\n",
    "        d['day_ago_created'] = json.get('day_ago_created')\n",
    "        d['original_price'] = json.get('original_price')    \n",
    "        d['price'] = json.get('price')\n",
    "        d['discount'] = json.get('discount')\n",
    "        d['discount_rate'] = json.get('discount_rate')\n",
    "        d['gift_item_title'] = json.get('gift_item_title')\n",
    "        d['has_buynow'] = json.get('has_buynow')\n",
    "        d['fulfillment_type'] = json.get('inventory').get('fulfillment_type')\n",
    "        d['inventory_status'] = json.get('inventory_status')    \n",
    "        d['inventory_type'] = json.get('inventory_type')\n",
    "        d['is_seller_in_chat_whitelist'] = json.get('is_seller_in_chat_whitelist')\n",
    "        d['other_sellers'] = json.get('other_sellers')\n",
    "        d['rating_average'] = json.get('rating_average')\n",
    "        d['return_and_exchange_policy'] = json.get('return_and_exchange_policy')    \n",
    "        d['review_count'] = json.get('review_count')\n",
    "        d['type'] = json.get('type')\n",
    "    except:\n",
    "        d['id'] = np.nan\n",
    "        d['quantity_sold'] = json.get('quantity_sold').get('value')\n",
    "        d['has_freeship_plus_benefit'] = np.nan\n",
    "        d['partner_rewards_amount'] = np.nan\n",
    "        d['tiki_rewards_amount'] = np.nan\n",
    "        d['total_rewards_amount'] = np.nan\n",
    "        d['store_id'] = np.nan\n",
    "        d['day_ago_created'] = np.nan\n",
    "        d['original_price'] = np.nan  \n",
    "        d['price'] = np.nan\n",
    "        d['discount'] = np.nan\n",
    "        d['discount_rate'] = np.nan\n",
    "        d['gift_item_title'] = np.nan\n",
    "        d['has_buynow'] = np.nan\n",
    "        d['fulfillment_type'] = np.nan\n",
    "        d['inventory_status'] = np.nan\n",
    "        d['inventory_type'] = np.nan\n",
    "        d['is_seller_in_chat_whitelist'] = np.nan\n",
    "        d['other_sellers'] = np.nan\n",
    "        d['rating_average'] = np.nan\n",
    "        d['return_and_exchange_policy'] = np.nan\n",
    "        d['review_count'] = np.nan\n",
    "        d['type'] = np.nan\n",
    "    return d"
   ]
  },
  {
   "cell_type": "code",
   "execution_count": 5,
   "id": "a80183b4",
   "metadata": {},
   "outputs": [
    {
     "name": "stderr",
     "output_type": "stream",
     "text": [
      "Processing 94978634: 100%|██████████| 20000/20000 [1:55:49<00:00,  2.88it/s]    \n"
     ]
    }
   ],
   "source": [
    "df_id = pd.read_csv('prod_id.csv').iloc[80000:100000]\n",
    "pbar = tqdm(df_id.id.to_list(), total = len(df_id.id.to_list()))\n",
    "result = []\n",
    "for p_id in pbar:\n",
    "    try:\n",
    "        response = requests.get('https://tiki.vn/api/v2/products/{}'.format(p_id), \n",
    "                                headers = headers_dict, \n",
    "                                params = params_dict,\n",
    "                                cookies = cookies_dict)\n",
    "        if response.status_code == 200:\n",
    "#            time.sleep(random.randrange(1, 3))\n",
    "            pbar.set_description(\"Processing %s\" % p_id)\n",
    "            result.append(parser(response.json()))\n",
    "    except:\n",
    "        pass"
   ]
  },
  {
   "cell_type": "code",
   "execution_count": 6,
   "id": "81bb8869",
   "metadata": {},
   "outputs": [
    {
     "name": "stdout",
     "output_type": "stream",
     "text": [
      "<class 'pandas.core.frame.DataFrame'>\n",
      "RangeIndex: 5648 entries, 0 to 5647\n",
      "Data columns (total 24 columns):\n",
      " #   Column                       Non-Null Count  Dtype  \n",
      "---  ------                       --------------  -----  \n",
      " 0   id                           5648 non-null   int64  \n",
      " 1   sku                          5648 non-null   object \n",
      " 2   quantity_sold                3747 non-null   float64\n",
      " 3   has_freeship_plus_benefit    5648 non-null   bool   \n",
      " 4   partner_rewards_amount       5648 non-null   int64  \n",
      " 5   tiki_rewards_amount          5648 non-null   float64\n",
      " 6   total_rewards_amount         5648 non-null   float64\n",
      " 7   store_id                     5648 non-null   int64  \n",
      " 8   day_ago_created              5648 non-null   int64  \n",
      " 9   original_price               5648 non-null   int64  \n",
      " 10  price                        5648 non-null   int64  \n",
      " 11  discount                     5648 non-null   int64  \n",
      " 12  discount_rate                5648 non-null   int64  \n",
      " 13  gift_item_title              5648 non-null   object \n",
      " 14  has_buynow                   5648 non-null   bool   \n",
      " 15  fulfillment_type             5648 non-null   object \n",
      " 16  inventory_status             5648 non-null   object \n",
      " 17  inventory_type               5648 non-null   object \n",
      " 18  is_seller_in_chat_whitelist  5648 non-null   bool   \n",
      " 19  other_sellers                5648 non-null   object \n",
      " 20  rating_average               5648 non-null   float64\n",
      " 21  return_and_exchange_policy   5648 non-null   object \n",
      " 22  review_count                 5648 non-null   int64  \n",
      " 23  type                         5648 non-null   object \n",
      "dtypes: bool(3), float64(4), int64(9), object(8)\n",
      "memory usage: 943.3+ KB\n"
     ]
    }
   ],
   "source": [
    "result = [x for x in result if str(x) != 'nan']\n",
    "df_prod = pd.DataFrame(result)\n",
    "df_prod.info()"
   ]
  },
  {
   "cell_type": "code",
   "execution_count": 7,
   "id": "bb976904",
   "metadata": {},
   "outputs": [],
   "source": [
    "df_prod.to_csv('df_prod1.csv', index = False)"
   ]
  },
  {
   "cell_type": "code",
   "execution_count": null,
   "id": "431decec",
   "metadata": {},
   "outputs": [],
   "source": []
  }
 ],
 "metadata": {
  "kernelspec": {
   "display_name": "Python 3 (ipykernel)",
   "language": "python",
   "name": "python3"
  },
  "language_info": {
   "codemirror_mode": {
    "name": "ipython",
    "version": 3
   },
   "file_extension": ".py",
   "mimetype": "text/x-python",
   "name": "python",
   "nbconvert_exporter": "python",
   "pygments_lexer": "ipython3",
   "version": "3.9.13"
  },
  "widgets": {
   "application/vnd.jupyter.widget-state+json": {
    "state": {},
    "version_major": 2,
    "version_minor": 0
   }
  }
 },
 "nbformat": 4,
 "nbformat_minor": 5
}
